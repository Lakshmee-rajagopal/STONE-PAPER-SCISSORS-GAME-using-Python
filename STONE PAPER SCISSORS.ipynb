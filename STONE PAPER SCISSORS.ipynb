{
 "cells": [
  {
   "cell_type": "code",
   "execution_count": 1,
   "id": "560b56a6",
   "metadata": {},
   "outputs": [],
   "source": [
    "# PROGRAM TO IMPLEMENT STONE, PAPER, SCISSORS GAME IN PYTHON"
   ]
  },
  {
   "cell_type": "code",
   "execution_count": 2,
   "id": "3a12c68f",
   "metadata": {},
   "outputs": [
    {
     "name": "stdout",
     "output_type": "stream",
     "text": [
      "-----STONE PAPER SCISSORS-----\n",
      "Winning rules of this game are :\n",
      "Stone vs Paper -> Paper wins \n",
      "Stone vs Scissors -> Rock wins \n",
      "Paper vs Scissors -> Scissor wins \n",
      "\n",
      "Enter a move - Stone, Paper or Scissors:paper\n",
      "User's move: paper \tComputer's move: stone\n",
      "Paper will cover Stone\n",
      "You Won\n"
     ]
    }
   ],
   "source": [
    "import random\n",
    "print(\"-----STONE PAPER SCISSORS-----\")\n",
    "\n",
    "print('Winning rules of this game are :\\n' + \"Stone vs Paper -> Paper wins \\n\" + \"Stone vs Scissors -> Rock wins \\n\" + \"Paper vs Scissors -> Scissor wins \\n\")\n",
    "\n",
    "user_choice=str(input(\"Enter a move - Stone, Paper or Scissors:\"))\n",
    "val_list=[\"stone\",\"paper\",\"scissors\"]\n",
    "computer_choice=random.choice(val_list)\n",
    "print(\"User's move:\",user_choice.lower(),\"\\tComputer's move:\",computer_choice)\n",
    "if user_choice.lower()==computer_choice:\n",
    "    print(\"Tie\")\n",
    "elif user_choice.lower()==\"stone\":\n",
    "    if computer_choice==\"paper\":\n",
    "        print(\"Paper will cover Stone\\nComputer Won\")\n",
    "    elif computer_choice==\"scissors\":\n",
    "        print(\"Stone will be destroyed by Scissors\\nYou Won\")\n",
    "elif user_choice.lower()==\"paper\":\n",
    "    if computer_choice==\"stone\":\n",
    "        print(\"Paper will cover Stone\\nYou Won\")\n",
    "    elif computer_choice==\"scissors\":\n",
    "        print(\"Paper will be cut by Scissors\\nComputer Won\")\n",
    "elif user_choice.lower()==\"scissors\":\n",
    "    if computer_choice==\"stone\":\n",
    "        print(\"Stone will be destroyed by Scissors\\nComputer Won\")\n",
    "    elif computer_choice==\"paper\":\n",
    "        print(\"Paper will be cut by Scissors\\nYou Won\")\n",
    "else:\n",
    "    print(\"Invalid Move\")\n",
    "    "
   ]
  },
  {
   "cell_type": "code",
   "execution_count": null,
   "id": "43c7d8c6",
   "metadata": {},
   "outputs": [],
   "source": []
  }
 ],
 "metadata": {
  "kernelspec": {
   "display_name": "Python 3 (ipykernel)",
   "language": "python",
   "name": "python3"
  },
  "language_info": {
   "codemirror_mode": {
    "name": "ipython",
    "version": 3
   },
   "file_extension": ".py",
   "mimetype": "text/x-python",
   "name": "python",
   "nbconvert_exporter": "python",
   "pygments_lexer": "ipython3",
   "version": "3.11.5"
  }
 },
 "nbformat": 4,
 "nbformat_minor": 5
}
